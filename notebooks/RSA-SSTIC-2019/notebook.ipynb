{
 "cells": [
  {
   "cell_type": "markdown",
   "metadata": {},
   "source": [
    "# Attaque *Single Power Analysis* sur RSA\n",
    "Cette attaque fait partie du challenge 2019 de la conférence francophone [https://www.sstic.org](SSTIC) sur la sécurité informatique. L'objectif sera de retrouver la clé privée utilisée lors d'une signature RSA à partir de l'analyse de la consommation de courant."
   ]
  },
  {
   "cell_type": "markdown",
   "metadata": {},
   "source": [
    "### Mise en oeuvre\n",
    "On souhaite importer la mesure de consommation fournie dans le dossier `data`. L'extension de fichier .npz nous indique qu'il s'agit d'une archive NumPy, bibliothèque Python bien connue en data science. On utilise l'API NumPy pour charger le fichier et voir les données contenues :"
   ]
  },
  {
   "cell_type": "code",
   "execution_count": null,
   "metadata": {},
   "outputs": [],
   "source": [
    "import numpy as np\n",
    "file = np.load('data/rsa.npz')\n",
    "full_trace = file['arr_0']\n",
    "print(\"shape\", full_trace.shape)\n",
    "print(\"data\", full_trace)"
   ]
  },
  {
   "cell_type": "markdown",
   "metadata": {},
   "source": [
    "On retrouve un tableau NumPy à 1 dimension contenant 1 842 128 valeurs. On utilise Matplotlib pour afficher la courbe et voir grossièrement la forme pour identifier des zones d'intérêt."
   ]
  },
  {
   "cell_type": "code",
   "execution_count": null,
   "metadata": {},
   "outputs": [],
   "source": [
    "from matplotlib import pyplot as plt\n",
    "plt.rcParams['figure.figsize'] = (16, 6) # Configure la taille de la fenêtre Matplotlib, à adapter à votre écran si besoin\n",
    "plt.plot(full_trace)\n",
    "plt.show()"
   ]
  },
  {
   "cell_type": "markdown",
   "metadata": {},
   "source": [
    "### Question 1\n",
    "Identifier la zone d'intérêt qui pourrait correspondre à la succession d'opérations d'exponentiation modulaire. Afficher sur un graphique le début de la zone d'intérêt. "
   ]
  },
  {
   "cell_type": "code",
   "execution_count": null,
   "metadata": {},
   "outputs": [],
   "source": [
    "# Remplacer A1 et A2 pour mettre en évidence sur le graphique le début de la zone d'intérêt\n",
    "plt.xlim(A1, A2)\n",
    "plt.ylim(-0.3, 0.3)\n",
    "plt.plot(full_trace)\n",
    "plt.show()"
   ]
  },
  {
   "cell_type": "markdown",
   "metadata": {},
   "source": [
    "### Question 2\n",
    "De la même façon, afficher sur un graphique la fin de la zone d'intérêt. Stocker enfin la trace sur laquelle l'attaque va être portée dans la variable `trace`."
   ]
  },
  {
   "cell_type": "code",
   "execution_count": null,
   "metadata": {},
   "outputs": [],
   "source": [
    "# Remplacer B1 et B2 pour mettre en évidence sur le graphique le début de la zone d'intérêt\n",
    "plt.xlim(B1, B2)\n",
    "plt.ylim(-0.3, 0.3)\n",
    "plt.plot(full_trace)\n",
    "plt.show()\n",
    "\n",
    "# Remplacer X et Y par les bornes de la zone d'intérêt\n",
    "trace = full_trace[X:Y]"
   ]
  },
  {
   "cell_type": "markdown",
   "metadata": {},
   "source": [
    "### Question 3\n",
    "Inspecter la courbe en début de zone d'intérêt. Identifier visuellement le nombre de motifs différents présents afin de pouvoir faire l'hypothèse qu'il s'agit d'opérations de type *Square* et *Square* + *Multiply*."
   ]
  },
  {
   "cell_type": "code",
   "execution_count": null,
   "metadata": {},
   "outputs": [],
   "source": []
  },
  {
   "cell_type": "markdown",
   "metadata": {},
   "source": [
    "### Question 4\n",
    "Décoder manuellement les 8 premiers bits de l'exposant."
   ]
  },
  {
   "cell_type": "code",
   "execution_count": null,
   "metadata": {},
   "outputs": [],
   "source": []
  },
  {
   "cell_type": "markdown",
   "metadata": {},
   "source": [
    "### Question 5\n",
    "À l'aide de la fonction [`find_peaks`](https://docs.scipy.org/doc/scipy/reference/generated/scipy.signal.find_peaks.html) de la bibliothèque `scipy.signal`, identifier les abscisses des différents pics négatifs présents tout au long de la courbe."
   ]
  },
  {
   "cell_type": "code",
   "execution_count": null,
   "metadata": {},
   "outputs": [],
   "source": [
    "import scipy.signal\n",
    "\n",
    "# Identifier des paramètres corrects pour détecter les pics présents sur la courbe\n",
    "peaks = scipy.signal.find_peaks(...)[0]\n",
    "\n",
    "plt.xlim(0, 10000)\n",
    "plt.ylim(-0.3, 0.3)\n",
    "plt.plot(trace)\n",
    "plt.plot(peaks, trace[peaks], marker='P', color='red', linestyle='none')\n",
    "plt.show()"
   ]
  },
  {
   "cell_type": "markdown",
   "metadata": {},
   "source": [
    "### Question 6\n",
    "Valider également que les pics sont bien détectés sur la fin de la zone d'intérêt en affichant les détections de la même manière."
   ]
  },
  {
   "cell_type": "code",
   "execution_count": null,
   "metadata": {},
   "outputs": [],
   "source": []
  },
  {
   "cell_type": "markdown",
   "metadata": {},
   "source": [
    "### Question 7\n",
    "Écrire un algorithme qui, à partir des abscisses des pics `peaks`, indique \n",
    "À SIMPLIFIER"
   ]
  },
  {
   "cell_type": "code",
   "execution_count": null,
   "metadata": {},
   "outputs": [],
   "source": [
    "bits = []\n",
    "\n",
    "# Remplir la liste bits\n",
    "\n",
    "assert len(bits) == 1024"
   ]
  },
  {
   "cell_type": "markdown",
   "metadata": {},
   "source": [
    "### Question 7\n",
    "À partir du tableau `bits`, reconstruire l'exposant `key`."
   ]
  },
  {
   "cell_type": "code",
   "execution_count": null,
   "metadata": {},
   "outputs": [],
   "source": []
  }
 ],
 "metadata": {
  "kernelspec": {
   "display_name": "Python 3",
   "language": "python",
   "name": "python3"
  },
  "language_info": {
   "codemirror_mode": {
    "name": "ipython",
    "version": 3
   },
   "file_extension": ".py",
   "mimetype": "text/x-python",
   "name": "python",
   "nbconvert_exporter": "python",
   "pygments_lexer": "ipython3",
   "version": "3.7.8"
  }
 },
 "nbformat": 4,
 "nbformat_minor": 4
}
