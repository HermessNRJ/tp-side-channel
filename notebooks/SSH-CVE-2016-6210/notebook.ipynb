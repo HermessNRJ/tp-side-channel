{
 "cells": [
  {
   "cell_type": "markdown",
   "metadata": {},
   "source": [
    "# Attaque temporelle sur OpenSSH"
   ]
  },
  {
   "cell_type": "markdown",
   "metadata": {},
   "source": [
    "En 2016, une faille sur le logiciel OpenSSH, un serveur SSH très courant sur les environnements Unix, a été révélé publiquement et identifiée comme CVE-2016-6210. La faille en question est exploitable via une attaque temporelle sur la phase d'authentification qui donne accès par ce canal auxiliaire à la liste des utilisateurs du serveur. Pour les besoins du TP, la faille simplifiée a été réimplémentée dans le module `ssh.py`, qui contient une fonction `authenticate` et qui s'utilise comme dans l'exemple ci-dessous :"
   ]
  },
  {
   "cell_type": "code",
   "execution_count": 5,
   "metadata": {},
   "outputs": [
    {
     "name": "stdout",
     "output_type": "stream",
     "text": [
      "FAIL\n",
      "FAIL\n"
     ]
    }
   ],
   "source": [
    "from ssh import authenticate\n",
    "\n",
    "# Two servers are available: 'vulnerable' (which is vulnerable to CVE-2016-6210) and 'secured' (which has been patched).\n",
    "\n",
    "# Try to connect and to authenticate on a vulnerable remote server with given credentials\n",
    "print(authenticate(server='vulnerable', user='test', password='test'))\n",
    "\n",
    "# Try to connect and to authenticate on a secured remote server with given credentials\n",
    "print(authenticate(server='secured', user='test', password='test'))"
   ]
  },
  {
   "cell_type": "markdown",
   "metadata": {},
   "source": [
    "### Question 1\n",
    "Écrire un script qui donne le temps de réponse (en millisecondes) de la connexion SSH pour les identifiants suivants :\n",
    "- `user`: \"root\", `password`: \"wrong\"\n",
    "- `user`: \"unknown_user\", `password`: \"wrong\""
   ]
  },
  {
   "cell_type": "code",
   "execution_count": null,
   "metadata": {},
   "outputs": [],
   "source": []
  },
  {
   "cell_type": "markdown",
   "metadata": {},
   "source": [
    "### Question 2\n",
    "Écrire une fonction `chrono` qui, à partir d'un `user` et d'un `password` donné, mesure le temps de réponse de l'authentification sur `server` en millisecondes."
   ]
  },
  {
   "cell_type": "code",
   "execution_count": 6,
   "metadata": {},
   "outputs": [],
   "source": [
    "def chrono(server, user, password):\n",
    "    pass"
   ]
  },
  {
   "cell_type": "markdown",
   "metadata": {},
   "source": [
    "### Question 3\n",
    "Mettre en évidence l'influence (ou non) de la taille du `password` sur les identifiants `root` et `unknown_user` pour les deux serveurs (vulnerable et sécurisé) :"
   ]
  },
  {
   "cell_type": "code",
   "execution_count": null,
   "metadata": {},
   "outputs": [],
   "source": []
  },
  {
   "cell_type": "markdown",
   "metadata": {},
   "source": [
    "### Question 4\n",
    "Écrire une fonction `check_user` qui teste si un utilisateur `user` existe ou non sur le serveur vulnérable :"
   ]
  },
  {
   "cell_type": "code",
   "execution_count": 8,
   "metadata": {},
   "outputs": [],
   "source": [
    "def check_user(user):\n",
    "    pass"
   ]
  },
  {
   "cell_type": "markdown",
   "metadata": {},
   "source": [
    "### Question 5\n",
    "Tenter d'extaire une liste d'utilisateurs du serveur vulnérable à partir de la liste des utilisateurs répandus sur des serveurs Unix en pièce jointe `users.txt` :"
   ]
  },
  {
   "cell_type": "code",
   "execution_count": null,
   "metadata": {},
   "outputs": [],
   "source": []
  }
 ],
 "metadata": {
  "kernelspec": {
   "display_name": "Python 3",
   "language": "python",
   "name": "python3"
  },
  "language_info": {
   "codemirror_mode": {
    "name": "ipython",
    "version": 3
   },
   "file_extension": ".py",
   "mimetype": "text/x-python",
   "name": "python",
   "nbconvert_exporter": "python",
   "pygments_lexer": "ipython3",
   "version": "3.7.8"
  }
 },
 "nbformat": 4,
 "nbformat_minor": 4
}
